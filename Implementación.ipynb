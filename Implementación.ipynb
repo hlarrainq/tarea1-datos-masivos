{
 "cells": [
  {
   "attachments": {},
   "cell_type": "markdown",
   "id": "4ee754ec",
   "metadata": {},
   "source": [
    "1. Importar las bibliotecas necesarias:"
   ]
  },
  {
   "cell_type": "code",
   "execution_count": 3,
   "id": "25b2211a",
   "metadata": {},
   "outputs": [],
   "source": [
    "import pandas as pd\n",
    "from datasketch import MinHash, MinHashLSH\n",
    "import re"
   ]
  },
  {
   "attachments": {},
   "cell_type": "markdown",
   "id": "fc11dc8b",
   "metadata": {},
   "source": [
    "2. Cargar y limpiar el archivo CSV:"
   ]
  },
  {
   "cell_type": "code",
   "execution_count": 23,
   "id": "35513a02",
   "metadata": {},
   "outputs": [
    {
     "name": "stderr",
     "output_type": "stream",
     "text": [
      "C:\\Users\\herna\\AppData\\Local\\Temp\\ipykernel_34756\\1968410213.py:15: FutureWarning: The default value of regex will change from True to False in a future version.\n",
      "  df[\"text\"] = df[\"text\"].str.replace(r\"#\\w+\", \"\")\n"
     ]
    },
    {
     "name": "stdout",
     "output_type": "stream",
     "text": [
      "Cantidad de filas: 137177\n"
     ]
    }
   ],
   "source": [
    "# Cargar el archivo CSV en un DataFrame\n",
    "df = pd.read_csv(\"tweets_2022_abril_junio.csv\", nrows=500000) # Limitar la cantidad de filas para manejar la memoria\n",
    "\n",
    "# Limpiar el texto de los tweets\n",
    "df[\"text\"] = df[\"text\"].str.replace(\"\\n\", \" \") # Reemplazar saltos de línea por espacios\n",
    "df[\"text\"] = df[\"text\"].str.lower() # Convertir el texto a minúsculas\n",
    "\n",
    "# Eliminar tweets que empiezan por \"rt\"\n",
    "df = df[~df[\"text\"].str.startswith(\"rt\")]\n",
    "\n",
    "# Eliminar emojis\n",
    "df[\"text\"] = df[\"text\"].apply(lambda x: re.sub(r\"\\W+\", \" \", x.encode('ascii', 'ignore').decode('utf-8')))\n",
    "\n",
    "# Eliminar hashtags\n",
    "df[\"text\"] = df[\"text\"].str.replace(r\"#\\w+\", \"\")\n",
    "\n",
    "# Eliminar filas con texto vacío o solo espacios\n",
    "df = df.dropna(subset=[\"text\"])\n",
    "df = df[~df[\"text\"].str.isspace()]\n",
    "df = df[df[\"text\"].str.len() > 3]  # Usar str.len() para filtrar filas con texto vacío\n",
    "\n",
    "# Borramos textos duplicados\n",
    "df.drop_duplicates(subset=\"text\", keep=\"first\", inplace=True)\n",
    "\n",
    "# Borramos filas que contengan texto \"http\"\n",
    "df = df[~df[\"text\"].str.contains(\"http\")]\n",
    "\n",
    "# Imprime la cantidad de filas del DataFrame\n",
    "print(\"Cantidad de filas:\", len(df)) # Raw: 4594980, quitando RT: 1267332\n",
    "\n",
    "# Guardamos el DataFrame en un archivo CSV\n",
    "df.to_csv(\"tweets_2022_abril_junio_clean.csv\", index=False)"
   ]
  },
  {
   "cell_type": "code",
   "execution_count": 24,
   "id": "58a6d386",
   "metadata": {},
   "outputs": [],
   "source": [
    "def get_k_shingles(text, k=4):\n",
    "    return [text[i:i+k] for i in range(len(text) - k + 1)]\n",
    "\n",
    "# Crear una lista para almacenar los MinHash de cada tweet\n",
    "minhashes = []\n",
    "\n",
    "# Crear MinHash para cada tweet\n",
    "for text in df[\"text\"]:\n",
    "    m = MinHash(num_perm=128)\n",
    "    for shingle in get_k_shingles(text):\n",
    "        m.update(shingle.encode(\"utf8\"))\n",
    "    minhashes.append(m)\n",
    "\n",
    "# Crear LSH con un umbral de similitud s\n",
    "s = 0.7\n",
    "lsh = MinHashLSH(threshold=s, num_perm=128)\n",
    "\n",
    "# Agregar MinHashes al LSH\n",
    "for i, m in enumerate(minhashes):\n",
    "    lsh.insert(i, m)\n",
    "\n",
    "similar_tweets = [] # Lista para almacenar los pares de tweets similares\n",
    "\n",
    "# Iterar sobre cada tweet\n",
    "for i, m in enumerate(minhashes):\n",
    "    # Consultar el LSH para encontrar tweets similares\n",
    "    similar_indices = lsh.query(m)\n",
    "    \n",
    "    # Iterar sobre los índices de los tweets similares\n",
    "    for j in similar_indices:\n",
    "        # Si los usuarios son diferentes y el índice j es mayor que i\n",
    "        if df.iloc[i][\"screen_name\"] != df.iloc[j][\"screen_name\"] and j > i:\n",
    "            similar_tweets.append((i, j))\n",
    "\n",
    "# Crear un DataFrame con los pares de tweets similares\n",
    "similar_tweets_df = pd.DataFrame(similar_tweets, columns=[\"Index1\", \"Index2\"])\n",
    "\n",
    "# Añadir información de usuario y texto al DataFrame\n",
    "similar_tweets_df[\"User1\"] = similar_tweets_df[\"Index1\"].apply(lambda x: df.iloc[x][\"screen_name\"])\n",
    "similar_tweets_df[\"User2\"] = similar_tweets_df[\"Index2\"].apply(lambda x: df.iloc[x][\"screen_name\"])\n",
    "similar_tweets_df[\"Tweet1\"] = similar_tweets_df[\"Index1\"].apply(lambda x: df.iloc[x][\"text\"])\n",
    "similar_tweets_df[\"Tweet2\"] = similar_tweets_df[\"Index2\"].apply(lambda x: df.iloc[x][\"text\"])\n",
    "\n",
    "# Guardar el DataFrame en un archivo CSV\n",
    "similar_tweets_df.to_csv(\"similar_tweetsP.csv\", index=False)"
   ]
  },
  {
   "cell_type": "code",
   "execution_count": null,
   "id": "ce79952d",
   "metadata": {},
   "outputs": [],
   "source": [
    "similar_tweets_df = pd.read_csv(\"similar_tweets.csv\")\n",
    "\n",
    "user_pairs_count = similar_tweets_df.groupby([\"User1\", \"User2\"]).size().reset_index(name=\"Count\")\n",
    "\n",
    "user_pairs_sorted = user_pairs_count.sort_values(by=\"Count\", ascending=False)\n",
    "\n",
    "top_user_pairs = user_pairs_sorted.head(10) # Mostrar los 10 primeros pares\n",
    "print(top_user_pairs)"
   ]
  }
 ],
 "metadata": {
  "kernelspec": {
   "display_name": "Python 3 (ipykernel)",
   "language": "python",
   "name": "python3"
  },
  "language_info": {
   "codemirror_mode": {
    "name": "ipython",
    "version": 3
   },
   "file_extension": ".py",
   "mimetype": "text/x-python",
   "name": "python",
   "nbconvert_exporter": "python",
   "pygments_lexer": "ipython3",
   "version": "3.10.5"
  }
 },
 "nbformat": 4,
 "nbformat_minor": 5
}
